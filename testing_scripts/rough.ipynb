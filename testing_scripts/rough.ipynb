{
 "cells": [
  {
   "cell_type": "code",
   "execution_count": 11,
   "id": "bffb3b28",
   "metadata": {},
   "outputs": [
    {
     "name": "stdout",
     "output_type": "stream",
     "text": [
      "[{'disposable_id': 4, 'disposable_name': 'Hot Cup Sleeves', 'log_date': '2025-07-14', 'quantity_used': 90}, {'disposable_id': 10, 'disposable_name': 'Syrup Cup 2oz', 'log_date': '2025-07-14', 'quantity_used': 12}, {'disposable_id': 9, 'disposable_name': 'Round Bowl Lid 16oz', 'log_date': '2025-07-14', 'quantity_used': 47}, {'disposable_id': 7, 'disposable_name': 'Sandwich Box', 'log_date': '2025-07-14', 'quantity_used': 40}, {'disposable_id': 15, 'disposable_name': 'Soup Bowl 10oz', 'log_date': '2025-07-14', 'quantity_used': 16}, {'disposable_id': 6, 'disposable_name': 'Cold Cup 16oz', 'log_date': '2025-07-14', 'quantity_used': 173}, {'disposable_id': 12, 'disposable_name': 'Espresso Cup 4oz', 'log_date': '2025-07-14', 'quantity_used': 5}, {'disposable_id': 24, 'disposable_name': 'Hot Dog Sleeve', 'log_date': '2025-07-14', 'quantity_used': 309}, {'disposable_id': 19, 'disposable_name': 'Plate 9\"', 'log_date': '2025-07-14', 'quantity_used': 199}, {'disposable_id': 14, 'disposable_name': 'Sundae Bowl 8oz', 'log_date': '2025-07-14', 'quantity_used': 3}, {'disposable_id': 3, 'disposable_name': 'Cup Lid', 'log_date': '2025-07-14', 'quantity_used': 256}, {'disposable_id': 22, 'disposable_name': 'Sugarcane Clamshell 7x5x2.5', 'log_date': '2025-07-14', 'quantity_used': 205}, {'disposable_id': 20, 'disposable_name': 'Plate 6\"', 'log_date': '2025-07-14', 'quantity_used': 167}, {'disposable_id': 13, 'disposable_name': 'Add Ons / Froyo Cup 6oz', 'log_date': '2025-07-14', 'quantity_used': 236}, {'disposable_id': 5, 'disposable_name': 'Hot Cup 12oz', 'log_date': '2025-07-14', 'quantity_used': 83}, {'disposable_id': 18, 'disposable_name': 'Pastry Bag', 'log_date': '2025-07-14', 'quantity_used': 322}, {'disposable_id': 16, 'disposable_name': 'Sundae / Soup Bowl Lid 6-8oz', 'log_date': '2025-07-14', 'quantity_used': 148}, {'disposable_id': 23, 'disposable_name': 'Sugarcane Clamshell 6x6x3', 'log_date': '2025-07-14', 'quantity_used': 50}, {'disposable_id': 11, 'disposable_name': 'Syrup Cup Lid 2oz', 'log_date': '2025-07-14', 'quantity_used': 12}, {'disposable_id': 8, 'disposable_name': 'Round Bowl 16oz', 'log_date': '2025-07-14', 'quantity_used': 47}]\n"
     ]
    }
   ],
   "source": [
    "from datetime import timedelta, date\n",
    "from supabase import create_client, Client\n",
    "from dotenv import load_dotenv\n",
    "import os\n",
    "\n",
    "\n",
    "load_dotenv()\n",
    "\n",
    "url = os.getenv(\"SUPABASE_URL\")\n",
    "key = os.getenv(\"SUPABASE_KEY\")\n",
    "supabase = create_client(url, key)\n",
    "\n",
    "usage = supabase.table(\"disposable_daily_usage\").select(\"*\").execute().data\n",
    "print(usage)"
   ]
  },
  {
   "cell_type": "code",
   "execution_count": null,
   "id": "7f5b5f62",
   "metadata": {},
   "outputs": [],
   "source": [
    "yesterday = date.today() - timedelta(days=1)\n",
    "\n",
    "for entry in usage:\n",
    "    disp_id = entry[\"disposable_id\"]\n",
    "    used_qty = entry[\"quantity_used\"]\n",
    "    disp_name = entry[\"disposable_name\"]\n",
    "\n",
    "    supabase.table(\"disposable_usage_log\").insert({\n",
    "    \"disposable_name\":disp_name,\n",
    "    \"disposable_id\": disp_id,\n",
    "    \"quantity_used\": used_qty,\n",
    "    \"log_date\": str(yesterday)\n",
    "        }).execute()\n",
    "    \n",
    "    \n",
    "    # Executing SQL Stored procedure to deduct stock\n",
    "    \n",
    "    supabase.rpc(\n",
    "        \"update_stock_after_sales\",\n",
    "        {   \n",
    "            \"disp_id\":disp_id,\n",
    "            \"used_qty\": used_qty\n",
    "         }).execute()\n",
    "    "
   ]
  },
  {
   "cell_type": "code",
   "execution_count": 5,
   "id": "ba5e4034",
   "metadata": {},
   "outputs": [
    {
     "name": "stdout",
     "output_type": "stream",
     "text": [
      "2025-08-10\n"
     ]
    }
   ],
   "source": [
    "from datetime import datetime, timedelta\n",
    "FILE_DATE = (datetime.today() - timedelta(days=1)).date()\n",
    "print(FILE_DATE)"
   ]
  },
  {
   "cell_type": "code",
   "execution_count": 4,
   "id": "f56c8c48",
   "metadata": {},
   "outputs": [
    {
     "ename": "NameError",
     "evalue": "name 'response' is not defined",
     "output_type": "error",
     "traceback": [
      "\u001b[31m---------------------------------------------------------------------------\u001b[39m",
      "\u001b[31mNameError\u001b[39m                                 Traceback (most recent call last)",
      "\u001b[36mCell\u001b[39m\u001b[36m \u001b[39m\u001b[32mIn[4]\u001b[39m\u001b[32m, line 24\u001b[39m\n\u001b[32m     20\u001b[39m SUPABASE_KEY = os.environ.get(\u001b[33m\"\u001b[39m\u001b[33mSUPABASE_KEY\u001b[39m\u001b[33m\"\u001b[39m)\n\u001b[32m     21\u001b[39m supabase: Client = create_client(SUPABASE_URL, SUPABASE_KEY)\n\u001b[32m---> \u001b[39m\u001b[32m24\u001b[39m \u001b[38;5;28mprint\u001b[39m(\u001b[43mresponse\u001b[49m)\n\u001b[32m     26\u001b[39m FILE_DATE = (datetime.today() - timedelta(days=\u001b[32m1\u001b[39m)).strftime(\u001b[33m\"\u001b[39m\u001b[33m%\u001b[39m\u001b[33mY-\u001b[39m\u001b[33m%\u001b[39m\u001b[33mm-\u001b[39m\u001b[38;5;132;01m%d\u001b[39;00m\u001b[33m\"\u001b[39m)\n\u001b[32m     28\u001b[39m INPUT_FILE_NAME = \u001b[33mf\u001b[39m\u001b[33m\"\u001b[39m\u001b[38;5;132;01m{\u001b[39;00mFILE_DATE\u001b[38;5;132;01m}\u001b[39;00m\u001b[33m.xlsx\u001b[39m\u001b[33m\"\u001b[39m\n",
      "\u001b[31mNameError\u001b[39m: name 'response' is not defined"
     ]
    }
   ],
   "source": [
    "import os\n",
    "from dotenv import load_dotenv\n",
    "import pandas as pd\n",
    "from datetime import datetime, timedelta\n",
    "from supabase import create_client, Client\n",
    "from io import BytesIO\n",
    "\n",
    "\n",
    "load_dotenv()  # loading variables from .env\n",
    "\n",
    "\n",
    "# ========== CONFIG ==========\n",
    "# DATA_FOLDER = \"data\"\n",
    "# CLEAN_DATA_FOLDER = \"clean_data\"\n",
    "# FILE_DATE = (datetime.today() - timedelta(days=1)).strftime(\"%Y-%m-%d\")\n",
    "# INPUT_FILE = f\"../{DATA_FOLDER}/{FILE_DATE}.xlsx\"\n",
    "# CLEANED_FILE = f\"../{CLEAN_DATA_FOLDER}/{FILE_DATE}_cleaned.csv\"\n",
    "\n",
    "SUPABASE_URL = os.environ.get(\"SUPABASE_URL\")\n",
    "SUPABASE_KEY = os.environ.get(\"SUPABASE_KEY\")\n",
    "supabase: Client = create_client(SUPABASE_URL, SUPABASE_KEY)\n",
    "\n",
    "\n",
    "print(response)\n",
    "\n",
    "FILE_DATE = (datetime.today() - timedelta(days=1)).strftime(\"%Y-%m-%d\")\n",
    "\n",
    "INPUT_FILE_NAME = f\"{FILE_DATE}.xlsx\"\n",
    "OUTPUT_FILE_NAME = f\"{FILE_DATE}_cleaned.csv\"\n",
    "\n",
    "# raw_file = supabase.storage.from_(download_bucket).download(INPUT_FILE_NAME)"
   ]
  },
  {
   "cell_type": "markdown",
   "id": "0656ad2d",
   "metadata": {},
   "source": []
  }
 ],
 "metadata": {
  "kernelspec": {
   "display_name": "ikea_disposables",
   "language": "python",
   "name": "python3"
  },
  "language_info": {
   "codemirror_mode": {
    "name": "ipython",
    "version": 3
   },
   "file_extension": ".py",
   "mimetype": "text/x-python",
   "name": "python",
   "nbconvert_exporter": "python",
   "pygments_lexer": "ipython3",
   "version": "3.11.13"
  }
 },
 "nbformat": 4,
 "nbformat_minor": 5
}
