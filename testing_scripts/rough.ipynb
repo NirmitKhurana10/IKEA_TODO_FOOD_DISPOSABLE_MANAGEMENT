{
 "cells": [
  {
   "cell_type": "code",
   "execution_count": 11,
   "id": "bffb3b28",
   "metadata": {},
   "outputs": [
    {
     "name": "stdout",
     "output_type": "stream",
     "text": [
      "[{'disposable_id': 4, 'disposable_name': 'Hot Cup Sleeves', 'log_date': '2025-07-14', 'quantity_used': 90}, {'disposable_id': 10, 'disposable_name': 'Syrup Cup 2oz', 'log_date': '2025-07-14', 'quantity_used': 12}, {'disposable_id': 9, 'disposable_name': 'Round Bowl Lid 16oz', 'log_date': '2025-07-14', 'quantity_used': 47}, {'disposable_id': 7, 'disposable_name': 'Sandwich Box', 'log_date': '2025-07-14', 'quantity_used': 40}, {'disposable_id': 15, 'disposable_name': 'Soup Bowl 10oz', 'log_date': '2025-07-14', 'quantity_used': 16}, {'disposable_id': 6, 'disposable_name': 'Cold Cup 16oz', 'log_date': '2025-07-14', 'quantity_used': 173}, {'disposable_id': 12, 'disposable_name': 'Espresso Cup 4oz', 'log_date': '2025-07-14', 'quantity_used': 5}, {'disposable_id': 24, 'disposable_name': 'Hot Dog Sleeve', 'log_date': '2025-07-14', 'quantity_used': 309}, {'disposable_id': 19, 'disposable_name': 'Plate 9\"', 'log_date': '2025-07-14', 'quantity_used': 199}, {'disposable_id': 14, 'disposable_name': 'Sundae Bowl 8oz', 'log_date': '2025-07-14', 'quantity_used': 3}, {'disposable_id': 3, 'disposable_name': 'Cup Lid', 'log_date': '2025-07-14', 'quantity_used': 256}, {'disposable_id': 22, 'disposable_name': 'Sugarcane Clamshell 7x5x2.5', 'log_date': '2025-07-14', 'quantity_used': 205}, {'disposable_id': 20, 'disposable_name': 'Plate 6\"', 'log_date': '2025-07-14', 'quantity_used': 167}, {'disposable_id': 13, 'disposable_name': 'Add Ons / Froyo Cup 6oz', 'log_date': '2025-07-14', 'quantity_used': 236}, {'disposable_id': 5, 'disposable_name': 'Hot Cup 12oz', 'log_date': '2025-07-14', 'quantity_used': 83}, {'disposable_id': 18, 'disposable_name': 'Pastry Bag', 'log_date': '2025-07-14', 'quantity_used': 322}, {'disposable_id': 16, 'disposable_name': 'Sundae / Soup Bowl Lid 6-8oz', 'log_date': '2025-07-14', 'quantity_used': 148}, {'disposable_id': 23, 'disposable_name': 'Sugarcane Clamshell 6x6x3', 'log_date': '2025-07-14', 'quantity_used': 50}, {'disposable_id': 11, 'disposable_name': 'Syrup Cup Lid 2oz', 'log_date': '2025-07-14', 'quantity_used': 12}, {'disposable_id': 8, 'disposable_name': 'Round Bowl 16oz', 'log_date': '2025-07-14', 'quantity_used': 47}]\n"
     ]
    }
   ],
   "source": [
    "from datetime import timedelta, date\n",
    "from supabase import create_client, Client\n",
    "from dotenv import load_dotenv\n",
    "import os\n",
    "\n",
    "\n",
    "load_dotenv()\n",
    "\n",
    "url = os.getenv(\"SUPABASE_URL\")\n",
    "key = os.getenv(\"SUPABASE_KEY\")\n",
    "supabase = create_client(url, key)\n",
    "\n",
    "usage = supabase.table(\"disposable_daily_usage\").select(\"*\").execute().data\n",
    "print(usage)"
   ]
  },
  {
   "cell_type": "code",
   "execution_count": null,
   "id": "7f5b5f62",
   "metadata": {},
   "outputs": [],
   "source": [
    "yesterday = date.today() - timedelta(days=1)\n",
    "\n",
    "for entry in usage:\n",
    "    disp_id = entry[\"disposable_id\"]\n",
    "    used_qty = entry[\"quantity_used\"]\n",
    "    disp_name = entry[\"disposable_name\"]\n",
    "\n",
    "    supabase.table(\"disposable_usage_log\").insert({\n",
    "    \"disposable_name\":disp_name,\n",
    "    \"disposable_id\": disp_id,\n",
    "    \"quantity_used\": used_qty,\n",
    "    \"log_date\": str(yesterday)\n",
    "        }).execute()\n",
    "    \n",
    "    \n",
    "    # Executing SQL Stored procedure to deduct stock\n",
    "    \n",
    "    supabase.rpc(\n",
    "        \"update_stock_after_sales\",\n",
    "        {   \n",
    "            \"disp_id\":disp_id,\n",
    "            \"used_qty\": used_qty\n",
    "         }).execute()\n",
    "    "
   ]
  }
 ],
 "metadata": {
  "kernelspec": {
   "display_name": "ikea_disposables",
   "language": "python",
   "name": "python3"
  },
  "language_info": {
   "codemirror_mode": {
    "name": "ipython",
    "version": 3
   },
   "file_extension": ".py",
   "mimetype": "text/x-python",
   "name": "python",
   "nbconvert_exporter": "python",
   "pygments_lexer": "ipython3",
   "version": "3.11.13"
  }
 },
 "nbformat": 4,
 "nbformat_minor": 5
}
