{
 "cells": [
  {
   "cell_type": "code",
   "execution_count": 11,
   "id": "bffb3b28",
   "metadata": {},
   "outputs": [
    {
     "name": "stdout",
     "output_type": "stream",
     "text": [
      "[{'disposable_id': 4, 'disposable_name': 'Hot Cup Sleeves', 'log_date': '2025-07-14', 'quantity_used': 90}, {'disposable_id': 10, 'disposable_name': 'Syrup Cup 2oz', 'log_date': '2025-07-14', 'quantity_used': 12}, {'disposable_id': 9, 'disposable_name': 'Round Bowl Lid 16oz', 'log_date': '2025-07-14', 'quantity_used': 47}, {'disposable_id': 7, 'disposable_name': 'Sandwich Box', 'log_date': '2025-07-14', 'quantity_used': 40}, {'disposable_id': 15, 'disposable_name': 'Soup Bowl 10oz', 'log_date': '2025-07-14', 'quantity_used': 16}, {'disposable_id': 6, 'disposable_name': 'Cold Cup 16oz', 'log_date': '2025-07-14', 'quantity_used': 173}, {'disposable_id': 12, 'disposable_name': 'Espresso Cup 4oz', 'log_date': '2025-07-14', 'quantity_used': 5}, {'disposable_id': 24, 'disposable_name': 'Hot Dog Sleeve', 'log_date': '2025-07-14', 'quantity_used': 309}, {'disposable_id': 19, 'disposable_name': 'Plate 9\"', 'log_date': '2025-07-14', 'quantity_used': 199}, {'disposable_id': 14, 'disposable_name': 'Sundae Bowl 8oz', 'log_date': '2025-07-14', 'quantity_used': 3}, {'disposable_id': 3, 'disposable_name': 'Cup Lid', 'log_date': '2025-07-14', 'quantity_used': 256}, {'disposable_id': 22, 'disposable_name': 'Sugarcane Clamshell 7x5x2.5', 'log_date': '2025-07-14', 'quantity_used': 205}, {'disposable_id': 20, 'disposable_name': 'Plate 6\"', 'log_date': '2025-07-14', 'quantity_used': 167}, {'disposable_id': 13, 'disposable_name': 'Add Ons / Froyo Cup 6oz', 'log_date': '2025-07-14', 'quantity_used': 236}, {'disposable_id': 5, 'disposable_name': 'Hot Cup 12oz', 'log_date': '2025-07-14', 'quantity_used': 83}, {'disposable_id': 18, 'disposable_name': 'Pastry Bag', 'log_date': '2025-07-14', 'quantity_used': 322}, {'disposable_id': 16, 'disposable_name': 'Sundae / Soup Bowl Lid 6-8oz', 'log_date': '2025-07-14', 'quantity_used': 148}, {'disposable_id': 23, 'disposable_name': 'Sugarcane Clamshell 6x6x3', 'log_date': '2025-07-14', 'quantity_used': 50}, {'disposable_id': 11, 'disposable_name': 'Syrup Cup Lid 2oz', 'log_date': '2025-07-14', 'quantity_used': 12}, {'disposable_id': 8, 'disposable_name': 'Round Bowl 16oz', 'log_date': '2025-07-14', 'quantity_used': 47}]\n"
     ]
    }
   ],
   "source": [
    "from datetime import timedelta, date\n",
    "from supabase import create_client, Client\n",
    "from dotenv import load_dotenv\n",
    "import os\n",
    "\n",
    "\n",
    "load_dotenv()\n",
    "\n",
    "url = os.getenv(\"SUPABASE_URL\")\n",
    "key = os.getenv(\"SUPABASE_KEY\")\n",
    "supabase = create_client(url, key)\n",
    "\n",
    "usage = supabase.table(\"disposable_daily_usage\").select(\"*\").execute().data\n",
    "print(usage)"
   ]
  },
  {
   "cell_type": "code",
   "execution_count": null,
   "id": "7f5b5f62",
   "metadata": {},
   "outputs": [],
   "source": [
    "yesterday = date.today() - timedelta(days=1)\n",
    "\n",
    "for entry in usage:\n",
    "    disp_id = entry[\"disposable_id\"]\n",
    "    used_qty = entry[\"quantity_used\"]\n",
    "    disp_name = entry[\"disposable_name\"]\n",
    "\n",
    "    supabase.table(\"disposable_usage_log\").insert({\n",
    "    \"disposable_name\":disp_name,\n",
    "    \"disposable_id\": disp_id,\n",
    "    \"quantity_used\": used_qty,\n",
    "    \"log_date\": str(yesterday)\n",
    "        }).execute()\n",
    "    \n",
    "    \n",
    "    # Executing SQL Stored procedure to deduct stock\n",
    "    \n",
    "    supabase.rpc(\n",
    "        \"update_stock_after_sales\",\n",
    "        {   \n",
    "            \"disp_id\":disp_id,\n",
    "            \"used_qty\": used_qty\n",
    "         }).execute()\n",
    "    "
   ]
  },
  {
   "cell_type": "code",
   "execution_count": 3,
   "id": "ba5e4034",
   "metadata": {},
   "outputs": [
    {
     "name": "stdout",
     "output_type": "stream",
     "text": [
      "2025-07-23\n"
     ]
    }
   ],
   "source": [
    "from datetime import datetime, timedelta\n",
    "FILE_DATE = (datetime.today() - timedelta(days=1)).strftime(\"%Y-%m-%d\")\n",
    "print(FILE_DATE)"
   ]
  },
  {
   "cell_type": "code",
   "execution_count": 2,
   "id": "f56c8c48",
   "metadata": {},
   "outputs": [
    {
     "ename": "StorageApiError",
     "evalue": "{'statusCode': 404, 'error': Bucket not found, 'message': Bucket not found}",
     "output_type": "error",
     "traceback": [
      "\u001b[31m---------------------------------------------------------------------------\u001b[39m",
      "\u001b[31mHTTPStatusError\u001b[39m                           Traceback (most recent call last)",
      "\u001b[36mFile \u001b[39m\u001b[32m~/anaconda/anaconda3/envs/ikea_disposables/lib/python3.11/site-packages/storage3/_sync/file_api.py:53\u001b[39m, in \u001b[36mSyncBucketActionsMixin._request\u001b[39m\u001b[34m(self, method, url, headers, json, files, **kwargs)\u001b[39m\n\u001b[32m     50\u001b[39m     response = \u001b[38;5;28mself\u001b[39m._client.request(\n\u001b[32m     51\u001b[39m         method, url, headers=headers \u001b[38;5;129;01mor\u001b[39;00m {}, json=json, files=files, **kwargs\n\u001b[32m     52\u001b[39m     )\n\u001b[32m---> \u001b[39m\u001b[32m53\u001b[39m     \u001b[43mresponse\u001b[49m\u001b[43m.\u001b[49m\u001b[43mraise_for_status\u001b[49m\u001b[43m(\u001b[49m\u001b[43m)\u001b[49m\n\u001b[32m     54\u001b[39m \u001b[38;5;28;01mexcept\u001b[39;00m HTTPStatusError \u001b[38;5;28;01mas\u001b[39;00m exc:\n",
      "\u001b[36mFile \u001b[39m\u001b[32m~/anaconda/anaconda3/envs/ikea_disposables/lib/python3.11/site-packages/httpx/_models.py:829\u001b[39m, in \u001b[36mResponse.raise_for_status\u001b[39m\u001b[34m(self)\u001b[39m\n\u001b[32m    828\u001b[39m message = message.format(\u001b[38;5;28mself\u001b[39m, error_type=error_type)\n\u001b[32m--> \u001b[39m\u001b[32m829\u001b[39m \u001b[38;5;28;01mraise\u001b[39;00m HTTPStatusError(message, request=request, response=\u001b[38;5;28mself\u001b[39m)\n",
      "\u001b[31mHTTPStatusError\u001b[39m: Client error '400 Bad Request' for url 'https://pucvgtvkqypphvxhqhen.supabase.co/storage/v1/object/food-sales/2025-08-04.xlsx'\nFor more information check: https://developer.mozilla.org/en-US/docs/Web/HTTP/Status/400",
      "\nDuring handling of the above exception, another exception occurred:\n",
      "\u001b[31mStorageApiError\u001b[39m                           Traceback (most recent call last)",
      "\u001b[36mCell\u001b[39m\u001b[36m \u001b[39m\u001b[32mIn[2]\u001b[39m\u001b[32m, line 31\u001b[39m\n\u001b[32m     28\u001b[39m INPUT_FILE_NAME = \u001b[33mf\u001b[39m\u001b[33m\"\u001b[39m\u001b[38;5;132;01m{\u001b[39;00mFILE_DATE\u001b[38;5;132;01m}\u001b[39;00m\u001b[33m.xlsx\u001b[39m\u001b[33m\"\u001b[39m\n\u001b[32m     29\u001b[39m OUTPUT_FILE_NAME = \u001b[33mf\u001b[39m\u001b[33m\"\u001b[39m\u001b[38;5;132;01m{\u001b[39;00mFILE_DATE\u001b[38;5;132;01m}\u001b[39;00m\u001b[33m_cleaned.csv\u001b[39m\u001b[33m\"\u001b[39m\n\u001b[32m---> \u001b[39m\u001b[32m31\u001b[39m raw_file = \u001b[43msupabase\u001b[49m\u001b[43m.\u001b[49m\u001b[43mstorage\u001b[49m\u001b[43m.\u001b[49m\u001b[43mfrom_\u001b[49m\u001b[43m(\u001b[49m\u001b[43mdownload_bucket\u001b[49m\u001b[43m)\u001b[49m\u001b[43m.\u001b[49m\u001b[43mdownload\u001b[49m\u001b[43m(\u001b[49m\u001b[43mINPUT_FILE_NAME\u001b[49m\u001b[43m)\u001b[49m\n\u001b[32m     33\u001b[39m \u001b[38;5;28mprint\u001b[39m(raw_file)\n",
      "\u001b[36mFile \u001b[39m\u001b[32m~/anaconda/anaconda3/envs/ikea_disposables/lib/python3.11/site-packages/storage3/_sync/file_api.py:427\u001b[39m, in \u001b[36mSyncBucketActionsMixin.download\u001b[39m\u001b[34m(self, path, options)\u001b[39m\n\u001b[32m    424\u001b[39m query_string = \u001b[33mf\u001b[39m\u001b[33m\"\u001b[39m\u001b[33m?\u001b[39m\u001b[38;5;132;01m{\u001b[39;00mtransformation_query\u001b[38;5;132;01m}\u001b[39;00m\u001b[33m\"\u001b[39m \u001b[38;5;28;01mif\u001b[39;00m transformation_query \u001b[38;5;28;01melse\u001b[39;00m \u001b[33m\"\u001b[39m\u001b[33m\"\u001b[39m\n\u001b[32m    426\u001b[39m _path = \u001b[38;5;28mself\u001b[39m._get_final_path(path)\n\u001b[32m--> \u001b[39m\u001b[32m427\u001b[39m response = \u001b[38;5;28;43mself\u001b[39;49m\u001b[43m.\u001b[49m\u001b[43m_request\u001b[49m\u001b[43m(\u001b[49m\n\u001b[32m    428\u001b[39m \u001b[43m    \u001b[49m\u001b[33;43m\"\u001b[39;49m\u001b[33;43mGET\u001b[39;49m\u001b[33;43m\"\u001b[39;49m\u001b[43m,\u001b[49m\n\u001b[32m    429\u001b[39m \u001b[43m    \u001b[49m\u001b[33;43mf\u001b[39;49m\u001b[33;43m\"\u001b[39;49m\u001b[38;5;132;43;01m{\u001b[39;49;00m\u001b[43mrender_path\u001b[49m\u001b[38;5;132;43;01m}\u001b[39;49;00m\u001b[33;43m/\u001b[39;49m\u001b[38;5;132;43;01m{\u001b[39;49;00m\u001b[43m_path\u001b[49m\u001b[38;5;132;43;01m}\u001b[39;49;00m\u001b[38;5;132;43;01m{\u001b[39;49;00m\u001b[43mquery_string\u001b[49m\u001b[38;5;132;43;01m}\u001b[39;49;00m\u001b[33;43m\"\u001b[39;49m\u001b[43m,\u001b[49m\n\u001b[32m    430\u001b[39m \u001b[43m\u001b[49m\u001b[43m)\u001b[49m\n\u001b[32m    431\u001b[39m \u001b[38;5;28;01mreturn\u001b[39;00m response.content\n",
      "\u001b[36mFile \u001b[39m\u001b[32m~/anaconda/anaconda3/envs/ikea_disposables/lib/python3.11/site-packages/storage3/_sync/file_api.py:56\u001b[39m, in \u001b[36mSyncBucketActionsMixin._request\u001b[39m\u001b[34m(self, method, url, headers, json, files, **kwargs)\u001b[39m\n\u001b[32m     54\u001b[39m \u001b[38;5;28;01mexcept\u001b[39;00m HTTPStatusError \u001b[38;5;28;01mas\u001b[39;00m exc:\n\u001b[32m     55\u001b[39m     resp = exc.response.json()\n\u001b[32m---> \u001b[39m\u001b[32m56\u001b[39m     \u001b[38;5;28;01mraise\u001b[39;00m StorageApiError(resp[\u001b[33m\"\u001b[39m\u001b[33mmessage\u001b[39m\u001b[33m\"\u001b[39m], resp[\u001b[33m\"\u001b[39m\u001b[33merror\u001b[39m\u001b[33m\"\u001b[39m], resp[\u001b[33m\"\u001b[39m\u001b[33mstatusCode\u001b[39m\u001b[33m\"\u001b[39m])\n\u001b[32m     58\u001b[39m \u001b[38;5;66;03m# close the resource before returning the response\u001b[39;00m\n\u001b[32m     59\u001b[39m \u001b[38;5;28;01mif\u001b[39;00m files \u001b[38;5;129;01mand\u001b[39;00m \u001b[33m\"\u001b[39m\u001b[33mfile\u001b[39m\u001b[33m\"\u001b[39m \u001b[38;5;129;01min\u001b[39;00m files \u001b[38;5;129;01mand\u001b[39;00m \u001b[38;5;28misinstance\u001b[39m(files[\u001b[33m\"\u001b[39m\u001b[33mfile\u001b[39m\u001b[33m\"\u001b[39m][\u001b[32m1\u001b[39m], BufferedReader):\n",
      "\u001b[31mStorageApiError\u001b[39m: {'statusCode': 404, 'error': Bucket not found, 'message': Bucket not found}"
     ]
    }
   ],
   "source": [
    "import os\n",
    "from dotenv import load_dotenv\n",
    "import pandas as pd\n",
    "from datetime import datetime, timedelta\n",
    "from supabase import create_client, Client\n",
    "from io import BytesIO\n",
    "\n",
    "\n",
    "load_dotenv()  # loading variables from .env\n",
    "\n",
    "\n",
    "# ========== CONFIG ==========\n",
    "# DATA_FOLDER = \"data\"\n",
    "# CLEAN_DATA_FOLDER = \"clean_data\"\n",
    "# FILE_DATE = (datetime.today() - timedelta(days=1)).strftime(\"%Y-%m-%d\")\n",
    "# INPUT_FILE = f\"../{DATA_FOLDER}/{FILE_DATE}.xlsx\"\n",
    "# CLEANED_FILE = f\"../{CLEAN_DATA_FOLDER}/{FILE_DATE}_cleaned.csv\"\n",
    "\n",
    "SUPABASE_URL = os.environ.get(\"SUPABASE_URL\")\n",
    "SUPABASE_KEY = os.environ.get(\"SUPABASE_KEY\")\n",
    "supabase: Client = create_client(SUPABASE_URL, SUPABASE_KEY)\n",
    "\n",
    "download_bucket = os.environ.get(\"FOOD_SALES_BUCKET\")\n",
    "upload_bucket = os.environ.get(\"CLEAN_BUCKET\")\n",
    "\n",
    "FILE_DATE = (datetime.today() - timedelta(days=1)).strftime(\"%Y-%m-%d\")\n",
    "\n",
    "INPUT_FILE_NAME = f\"{FILE_DATE}.xlsx\"\n",
    "OUTPUT_FILE_NAME = f\"{FILE_DATE}_cleaned.csv\"\n",
    "\n",
    "raw_file = supabase.storage.from_(download_bucket).download(INPUT_FILE_NAME)\n",
    "\n",
    "print(raw_file)"
   ]
  },
  {
   "cell_type": "code",
   "execution_count": null,
   "id": "1b81164a",
   "metadata": {},
   "outputs": [],
   "source": []
  },
  {
   "cell_type": "code",
   "execution_count": null,
   "id": "4dca0b77",
   "metadata": {},
   "outputs": [],
   "source": []
  }
 ],
 "metadata": {
  "kernelspec": {
   "display_name": "ikea_disposables",
   "language": "python",
   "name": "python3"
  },
  "language_info": {
   "codemirror_mode": {
    "name": "ipython",
    "version": 3
   },
   "file_extension": ".py",
   "mimetype": "text/x-python",
   "name": "python",
   "nbconvert_exporter": "python",
   "pygments_lexer": "ipython3",
   "version": "3.11.13"
  }
 },
 "nbformat": 4,
 "nbformat_minor": 5
}
